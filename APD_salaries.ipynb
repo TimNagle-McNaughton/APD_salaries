{
 "cells": [
  {
   "cell_type": "code",
   "execution_count": 1,
   "metadata": {},
   "outputs": [],
   "source": [
    "# imports\n",
    "import os\n",
    "import pandas as pd\n",
    "import numpy as np\n",
    "import matplotlib.pyplot as plt\n",
    "import matplotlib.ticker as plticker"
   ]
  },
  {
   "cell_type": "code",
   "execution_count": 2,
   "metadata": {
    "scrolled": true
   },
   "outputs": [
    {
     "data": {
      "text/html": [
       "<div>\n",
       "<style scoped>\n",
       "    .dataframe tbody tr th:only-of-type {\n",
       "        vertical-align: middle;\n",
       "    }\n",
       "\n",
       "    .dataframe tbody tr th {\n",
       "        vertical-align: top;\n",
       "    }\n",
       "\n",
       "    .dataframe thead th {\n",
       "        text-align: right;\n",
       "    }\n",
       "</style>\n",
       "<table border=\"1\" class=\"dataframe\">\n",
       "  <thead>\n",
       "    <tr style=\"text-align: right;\">\n",
       "      <th></th>\n",
       "      <th>NAME</th>\n",
       "      <th>DEPARTMENT</th>\n",
       "      <th>GRADE</th>\n",
       "      <th>JOB TITLE</th>\n",
       "      <th>TOTAL EARNINGS</th>\n",
       "    </tr>\n",
       "  </thead>\n",
       "  <tbody>\n",
       "    <tr>\n",
       "      <th>249</th>\n",
       "      <td>Martinez,Michael J</td>\n",
       "      <td>FD-Fire</td>\n",
       "      <td>FC2</td>\n",
       "      <td>Captain - 40 HR</td>\n",
       "      <td>110552.03</td>\n",
       "    </tr>\n",
       "    <tr>\n",
       "      <th>248</th>\n",
       "      <td>Chacon,Xavier C</td>\n",
       "      <td>PD-Police</td>\n",
       "      <td>PF0</td>\n",
       "      <td>Sergeant</td>\n",
       "      <td>110648.21</td>\n",
       "    </tr>\n",
       "    <tr>\n",
       "      <th>247</th>\n",
       "      <td>Casias,Lawrence J</td>\n",
       "      <td>PD-Police</td>\n",
       "      <td>PE2</td>\n",
       "      <td>Master Police Officer 1C</td>\n",
       "      <td>110680.44</td>\n",
       "    </tr>\n",
       "    <tr>\n",
       "      <th>246</th>\n",
       "      <td>Groff,Matthew S</td>\n",
       "      <td>PD-Police</td>\n",
       "      <td>PE1</td>\n",
       "      <td>Senior Police Officer 1C</td>\n",
       "      <td>110805.70</td>\n",
       "    </tr>\n",
       "    <tr>\n",
       "      <th>245</th>\n",
       "      <td>Correia,Donald R</td>\n",
       "      <td>PD-Police</td>\n",
       "      <td>PE1</td>\n",
       "      <td>Senior Police Officer 1C</td>\n",
       "      <td>111247.37</td>\n",
       "    </tr>\n",
       "  </tbody>\n",
       "</table>\n",
       "</div>"
      ],
      "text/plain": [
       "                   NAME DEPARTMENT GRADE                 JOB TITLE  \\\n",
       "249  Martinez,Michael J    FD-Fire   FC2           Captain - 40 HR   \n",
       "248     Chacon,Xavier C  PD-Police   PF0                  Sergeant   \n",
       "247   Casias,Lawrence J  PD-Police   PE2  Master Police Officer 1C   \n",
       "246     Groff,Matthew S  PD-Police   PE1  Senior Police Officer 1C   \n",
       "245    Correia,Donald R  PD-Police   PE1  Senior Police Officer 1C   \n",
       "\n",
       "     TOTAL EARNINGS  \n",
       "249       110552.03  \n",
       "248       110648.21  \n",
       "247       110680.44  \n",
       "246       110805.70  \n",
       "245       111247.37  "
      ]
     },
     "execution_count": 2,
     "metadata": {},
     "output_type": "execute_result"
    }
   ],
   "source": [
    "# get source data\n",
    "source_directory = os.path.dirname(\"APD_salaries.ipynb\")\n",
    "source_table = source_directory + \"ABQ_salaries.csv\"\n",
    "\n",
    "# read in the csv\n",
    "salary_df = pd.read_csv(source_table)\n",
    "salary_df = salary_df.sort_values(by=\"TOTAL EARNINGS\")\n",
    "\n",
    "# explore dataset\n",
    "salary_df.head(5)"
   ]
  },
  {
   "cell_type": "code",
   "execution_count": 3,
   "metadata": {},
   "outputs": [],
   "source": [
    "# generate a cop/not-cop list\n",
    "cop_list = []\n",
    "\n",
    "# loop through all the departments\n",
    "for profession in list(salary_df[\"DEPARTMENT\"]):\n",
    "    \n",
    "    # check if a cop\n",
    "    if profession == \"PD-Police\":\n",
    "        cop_list.append(\"blue\")\n",
    "    \n",
    "    # otherwise just set it black\n",
    "    else:\n",
    "        cop_list.append(\"black\")"
   ]
  },
  {
   "cell_type": "code",
   "execution_count": 4,
   "metadata": {
    "scrolled": false
   },
   "outputs": [
    {
     "data": {
      "image/png": "[encoded data removed]",
      "text/plain": [
       "<Figure size 1728x720 with 1 Axes>"
      ]
     },
     "metadata": {
      "needs_background": "light"
     },
     "output_type": "display_data"
    }
   ],
   "source": [
    "# create a dataset and set spacing\n",
    "height = salary_df[\"TOTAL EARNINGS\"]\n",
    "bars = salary_df[\"NAME\"]\n",
    "x_pos = np.arange(len(bars))\n",
    "\n",
    "# set up the figuire\n",
    "fig, ax = plt.subplots(1, figsize=(24,10))\n",
    "\n",
    "# create the bar plot\n",
    "ax.bar(x_pos, height, color=cop_list, width=1.0)\n",
    "\n",
    "# fix the x axis spacing and formats\n",
    "ax.set_ylim(100000.0, 200000.0)\n",
    "y_loc = plticker.MultipleLocator(base=10000.0)\n",
    "y_format = plticker.FormatStrFormatter('$%.f')\n",
    "\n",
    "# apply y axis tickers\n",
    "ax.xaxis.set_major_locator(y_loc)\n",
    "ax.yaxis.set_major_formatter(y_format)\n",
    "\n",
    "# set the y axis size\n",
    "ax.yaxis.label.set_size(80) \n",
    "\n",
    "# add the y axis grid\n",
    "plt.grid(axis = 'y')\n",
    "\n",
    "# set the titles\n",
    "plt.suptitle(\"The top 250 earners in Albuquerque city government\", fontsize=28)\n",
    "plt.title(\"Cops in blue\", color=\"blue\", fontsize=24)\n",
    "\n",
    "# hide the x axis\n",
    "ax.set(xticklabels=[])\n",
    "\n",
    "# save the figure\n",
    "plt.savefig(source_directory + \"barplot.png\", dpi=300, facecolor=\"white\")"
   ]
  }
 ],
 "metadata": {
  "kernelspec": {
   "display_name": "Python [conda env:root] *",
   "language": "python",
   "name": "conda-root-py"
  },
  "language_info": {
   "codemirror_mode": {
    "name": "ipython",
    "version": 3
   },
   "file_extension": ".py",
   "mimetype": "text/x-python",
   "name": "python",
   "nbconvert_exporter": "python",
   "pygments_lexer": "ipython3",
   "version": "3.8.5"
  }
 },
 "nbformat": 4,
 "nbformat_minor": 4
}
